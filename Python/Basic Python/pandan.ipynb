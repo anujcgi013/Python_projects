{
 "cells": [
  {
   "cell_type": "code",
   "execution_count": 2,
   "metadata": {},
   "outputs": [],
   "source": [
    "import pandas as pd\n",
    "import numpy as np\n",
    "import matplotlib.pyplot as plt\n",
    "\n",
    "#pandas is used for data anysysis\n",
    "#---------------------------------------\n",
    "#Series and dataframes\n",
    "#Series: 1D (column)\n",
    "#DataFrame:2D (rows and columns)\n",
    "#DataFrame = excel structure\n",
    "#----------------------------------------\n",
    "#Series is similar to 1D numpy array, other than below diff\n",
    "#Series can have a customized Labled index\n",
    "#If there is any value missing in a series, it will be displayed as Nan\n",
    "# in Numpy this missing values is ignored and not displayed at all"
   ]
  },
  {
   "cell_type": "code",
   "execution_count": 5,
   "metadata": {},
   "outputs": [
    {
     "data": {
      "text/plain": [
       "0    0\n",
       "1    1\n",
       "2    2\n",
       "3    3\n",
       "4    4\n",
       "dtype: int32"
      ]
     },
     "execution_count": 5,
     "metadata": {},
     "output_type": "execute_result"
    }
   ],
   "source": [
    "a=np.arange(5)\n",
    "pd.Series(a)"
   ]
  },
  {
   "cell_type": "code",
   "execution_count": 9,
   "metadata": {},
   "outputs": [
    {
     "data": {
      "text/plain": [
       "v    0\n",
       "w    1\n",
       "x    2\n",
       "y    3\n",
       "z    4\n",
       "dtype: int32"
      ]
     },
     "execution_count": 9,
     "metadata": {},
     "output_type": "execute_result"
    }
   ],
   "source": [
    "#Customize index\n",
    "list1=np.arange(5)\n",
    "lables=['v','w','x', 'y', 'z']\n",
    "s2=pd.Series(list1, index=lables)\n",
    "s2"
   ]
  },
  {
   "cell_type": "code",
   "execution_count": null,
   "metadata": {},
   "outputs": [],
   "source": [
    "#DataFrames\n",
    ";"
   ]
  }
 ],
 "metadata": {
  "interpreter": {
   "hash": "eeb865e4bf458277b92eeb6d28eb153d7f2ba1fd1632d35c34bbdcf0f3374d8a"
  },
  "kernelspec": {
   "display_name": "Python 3.9.7 ('base')",
   "language": "python",
   "name": "python3"
  },
  "language_info": {
   "codemirror_mode": {
    "name": "ipython",
    "version": 3
   },
   "file_extension": ".py",
   "mimetype": "text/x-python",
   "name": "python",
   "nbconvert_exporter": "python",
   "pygments_lexer": "ipython3",
   "version": "3.9.7"
  },
  "orig_nbformat": 4
 },
 "nbformat": 4,
 "nbformat_minor": 2
}
